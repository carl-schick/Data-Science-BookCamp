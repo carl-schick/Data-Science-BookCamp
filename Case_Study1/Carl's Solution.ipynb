{
 "cells": [
  {
   "cell_type": "code",
   "execution_count": 1,
   "metadata": {},
   "outputs": [],
   "source": [
    "# A sample space is the set of all possible outcomes an action could produce\n",
    "# An event condition is a boolean function whose input is a single element of the sample space\n",
    "# An event is the subset of elements from the sample space that will fulfill an event condition\n",
    "\n",
    "sample_space = {'Heads' : 1, 'Tails' : 1}\n",
    "\n",
    "def event_is_H(outcome):\n",
    "    return outcome == 'Heads'\n",
    "\n",
    "def event_is_T(outcome):\n",
    "    return outcome == 'Tails'\n",
    "\n",
    "def event_cond_H_or_T(outcome):\n",
    "    return event_is_H(outcome) or event_is_T(outcome)\n",
    "\n",
    "def event_neither_H_nor_T(outcome):\n",
    "    return not event_is_H(outcome) and not event_is_T(outcome)\n"
   ]
  },
  {
   "cell_type": "code",
   "execution_count": 2,
   "metadata": {},
   "outputs": [],
   "source": [
    "# An event detection function accepts an event condition and a sample space, and returns the event subset\n",
    "\n",
    "def evaluate_event_condition(event_condition, sample_space):\n",
    "    event_results = {}\n",
    "    for sample_value in sample_space:\n",
    "        event_results[sample_value] = 0\n",
    "\n",
    "    for sample_value in sample_space:\n",
    "        for i in range(sample_space[sample_value]):\n",
    "            if event_condition(sample_value):\n",
    "                event_results[sample_value] = event_results[sample_value] + 1\n",
    "\n",
    "    weighted_size = sum(sample_space.values())\n",
    "    event_size = sum(event_results.values())\n",
    "    event_probability = event_size / weighted_size\n",
    "    return event_results, event_probability\n"
   ]
  },
  {
   "cell_type": "code",
   "execution_count": 3,
   "metadata": {},
   "outputs": [
    {
     "name": "stdout",
     "output_type": "stream",
     "text": [
      "\n",
      "Event Condition: event_is_H\n",
      "Event: {'Heads': 1, 'Tails': 0}\n",
      "Probability: 50%\n",
      "\n",
      "Event Condition: event_is_T\n",
      "Event: {'Heads': 0, 'Tails': 1}\n",
      "Probability: 50%\n",
      "\n",
      "Event Condition: event_cond_H_or_T\n",
      "Event: {'Heads': 1, 'Tails': 1}\n",
      "Probability: 100%\n",
      "\n",
      "Event Condition: event_neither_H_nor_T\n",
      "Event: {'Heads': 0, 'Tails': 0}\n",
      "Probability: 0%\n"
     ]
    }
   ],
   "source": [
    "# Implemented for our sample_space and 4 event_conditions\n",
    "\n",
    "event_conditions = [event_is_H, event_is_T, event_cond_H_or_T, event_neither_H_nor_T]\n",
    "for event_condition in event_conditions:\n",
    "    event, event_probability = evaluate_event_condition(event_condition, sample_space)\n",
    "    print(\"\\nEvent Condition: \" + event_condition.__name__)\n",
    "    print(\"Event:\", event)\n",
    "    print(\"Probability:\", \"{0:.0%}\".format(event_probability))\n"
   ]
  },
  {
   "cell_type": "code",
   "execution_count": 4,
   "metadata": {},
   "outputs": [
    {
     "name": "stdout",
     "output_type": "stream",
     "text": [
      "\n",
      "Event Condition: event_is_H\n",
      "Event: {'Heads': 4, 'Tails': 0}\n",
      "Probability: 80%\n",
      "\n",
      "Event Condition: event_is_T\n",
      "Event: {'Heads': 0, 'Tails': 1}\n",
      "Probability: 20%\n",
      "\n",
      "Event Condition: event_cond_H_or_T\n",
      "Event: {'Heads': 4, 'Tails': 1}\n",
      "Probability: 100%\n",
      "\n",
      "Event Condition: event_neither_H_nor_T\n",
      "Event: {'Heads': 0, 'Tails': 0}\n",
      "Probability: 0%\n"
     ]
    }
   ],
   "source": [
    "# For weighted event probabilites, set higher weights for more likely outcomes\n",
    "\n",
    "weighted_sample_space = {'Heads' : 4, 'Tails' : 1}\n",
    "\n",
    "# Implemented for our weighted_sample_space and 4 event_conditions\n",
    "\n",
    "event_conditions = [event_is_H, event_is_T, event_cond_H_or_T, event_neither_H_nor_T]\n",
    "for event_condition in event_conditions:\n",
    "    event, event_probability = evaluate_event_condition(event_condition, weighted_sample_space)\n",
    "    print(\"\\nEvent Condition: \" + event_condition.__name__)\n",
    "    print(\"Event:\", event)\n",
    "    print(\"Probability:\", \"{0:.0%}\".format(event_probability))"
   ]
  },
  {
   "cell_type": "code",
   "execution_count": 5,
   "metadata": {},
   "outputs": [],
   "source": [
    "# Suppose a family has four children. What is the probability that exactly two of the children are boys? \n",
    "\n",
    "from itertools import product\n",
    "\n",
    "def compute_full_sample_space(raw_sample_space, num_children):\n",
    "    full_sample_space = {}\n",
    "    full_key = []\n",
    "    i = 0\n",
    "    while i < num_children:\n",
    "        for key in raw_sample_space:\n",
    "            full_key.append(key)\n",
    "        i = i + 1\n",
    "\n",
    "raw_sample_space = {'Boy': 1, 'Girl': 1}\n",
    "sample_space_list = list(product(raw_sample_space.keys(), repeat=4))"
   ]
  }
 ],
 "metadata": {
  "interpreter": {
   "hash": "2e23f2375a57999574a0269b283c75eed81f3eafcf4544127d3a066ff8356cdc"
  },
  "kernelspec": {
   "display_name": "Python 3.8.8 64-bit ('base': conda)",
   "language": "python",
   "name": "python3"
  },
  "language_info": {
   "codemirror_mode": {
    "name": "ipython",
    "version": 3
   },
   "file_extension": ".py",
   "mimetype": "text/x-python",
   "name": "python",
   "nbconvert_exporter": "python",
   "pygments_lexer": "ipython3",
   "version": "3.8.8"
  },
  "orig_nbformat": 4
 },
 "nbformat": 4,
 "nbformat_minor": 2
}
